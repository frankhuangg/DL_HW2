{
  "cells": [
    {
      "cell_type": "code",
      "execution_count": 47,
      "metadata": {
        "id": "UAEumchcMxQm"
      },
      "outputs": [],
      "source": [
        "import numpy as np\n",
        "import tensorflow as tf\n",
        "import tensorflow.keras as keras \n",
        "from keras.models import Sequential\n",
        "from keras.datasets import mnist\n",
        "from keras.layers import Dense, Dropout, Activation, Flatten\n",
        "from keras.utils import np_utils  # 用來後續將 label 標籤轉為 one-hot-encoding  \n",
        "from matplotlib import pyplot as plt"
      ]
    },
    {
      "cell_type": "code",
      "execution_count": 48,
      "metadata": {
        "id": "U1UF77P0M4Yf"
      },
      "outputs": [],
      "source": [
        "(xr,yr), (xt,yt)= keras.datasets.mnist.load_data()"
      ]
    },
    {
      "cell_type": "code",
      "execution_count": 49,
      "metadata": {
        "colab": {
          "base_uri": "https://localhost:8080/"
        },
        "id": "5ZXprqI2M6AM",
        "outputId": "12ab8522-1519-4c34-d020-ff34203edbb3"
      },
      "outputs": [
        {
          "output_type": "execute_result",
          "data": {
            "text/plain": [
              "((60000, 28, 28), (60000,), (10000, 28, 28), (10000,))"
            ]
          },
          "metadata": {},
          "execution_count": 49
        }
      ],
      "source": [
        "xr.shape, yr.shape, xt.shape, yt.shape"
      ]
    },
    {
      "cell_type": "code",
      "execution_count": 50,
      "metadata": {
        "colab": {
          "base_uri": "https://localhost:8080/"
        },
        "id": "EyvCh8xHM8P-",
        "outputId": "335ca915-18f8-48fe-f3e8-e02777d25457"
      },
      "outputs": [
        {
          "output_type": "stream",
          "name": "stdout",
          "text": [
            "  0  0  0  0  0  0  0  0  0  0  0  0  0  0  0  0  0  0  0  0  0  0  0  0  0  0  0  0\n",
            "  0  0  0  0  0  0  0  0  0  0  0  0  0  0  0  0  0  0  0  0  0  0  0  0  0  0  0  0\n",
            "  0  0  0  0  0  0  0  0  0  0  0  0  0  0  0  0  0  0  0  0  0  0  0  0  0  0  0  0\n",
            "  0  0  0  0  0  0  0  0  0  0  0  0  0  0  0  0  0  0  0  0  0  0  0  0  0  0  0  0\n",
            "  0  0  0  0  0  0  0  0  0  0  0  0145255211 31  0  0  0  0  0  0  0  0  0  0  0  0\n",
            "  0  0  0  0  0  0  0  0  0  0  0 32237253252 71  0  0  0  0  0  0  0  0  0  0  0  0\n",
            "  0  0  0  0  0  0  0  0  0  0  0 11175253252 71  0  0  0  0  0  0  0  0  0  0  0  0\n",
            "  0  0  0  0  0  0  0  0  0  0  0  0144253252 71  0  0  0  0  0  0  0  0  0  0  0  0\n",
            "  0  0  0  0  0  0  0  0  0  0  0 16191253252 71  0  0  0  0  0  0  0  0  0  0  0  0\n",
            "  0  0  0  0  0  0  0  0  0  0  0 26221253252124 31  0  0  0  0  0  0  0  0  0  0  0\n",
            "  0  0  0  0  0  0  0  0  0  0  0  0125253252252108  0  0  0  0  0  0  0  0  0  0  0\n",
            "  0  0  0  0  0  0  0  0  0  0  0  0  0253252252108  0  0  0  0  0  0  0  0  0  0  0\n",
            "  0  0  0  0  0  0  0  0  0  0  0  0  0255253253108  0  0  0  0  0  0  0  0  0  0  0\n",
            "  0  0  0  0  0  0  0  0  0  0  0  0  0253252252108  0  0  0  0  0  0  0  0  0  0  0\n",
            "  0  0  0  0  0  0  0  0  0  0  0  0  0253252252108  0  0  0  0  0  0  0  0  0  0  0\n",
            "  0  0  0  0  0  0  0  0  0  0  0  0  0253252252108  0  0  0  0  0  0  0  0  0  0  0\n",
            "  0  0  0  0  0  0  0  0  0  0  0  0  0255253253170  0  0  0  0  0  0  0  0  0  0  0\n",
            "  0  0  0  0  0  0  0  0  0  0  0  0  0253252252252 42  0  0  0  0  0  0  0  0  0  0\n",
            "  0  0  0  0  0  0  0  0  0  0  0  0  0149252252252144  0  0  0  0  0  0  0  0  0  0\n",
            "  0  0  0  0  0  0  0  0  0  0  0  0  0109252252252144  0  0  0  0  0  0  0  0  0  0\n",
            "  0  0  0  0  0  0  0  0  0  0  0  0  0  0218253253255 35  0  0  0  0  0  0  0  0  0\n",
            "  0  0  0  0  0  0  0  0  0  0  0  0  0  0175252252253 35  0  0  0  0  0  0  0  0  0\n",
            "  0  0  0  0  0  0  0  0  0  0  0  0  0  0 73252252253 35  0  0  0  0  0  0  0  0  0\n",
            "  0  0  0  0  0  0  0  0  0  0  0  0  0  0 31211252253 35  0  0  0  0  0  0  0  0  0\n",
            "  0  0  0  0  0  0  0  0  0  0  0  0  0  0  0  0  0  0  0  0  0  0  0  0  0  0  0  0\n",
            "  0  0  0  0  0  0  0  0  0  0  0  0  0  0  0  0  0  0  0  0  0  0  0  0  0  0  0  0\n",
            "  0  0  0  0  0  0  0  0  0  0  0  0  0  0  0  0  0  0  0  0  0  0  0  0  0  0  0  0\n",
            "  0  0  0  0  0  0  0  0  0  0  0  0  0  0  0  0  0  0  0  0  0  0  0  0  0  0  0  0\n"
          ]
        }
      ],
      "source": [
        "x= xr[6]\n",
        "#%%\n",
        "for i in range(28):\n",
        "    for j in range(28):\n",
        "        z= x[i,j]\n",
        "        print(f'{z:3d}', end='')\n",
        "    print()"
      ]
    },
    {
      "cell_type": "code",
      "execution_count": 51,
      "metadata": {
        "colab": {
          "base_uri": "https://localhost:8080/",
          "height": 282
        },
        "id": "ZUed6qjFM96y",
        "outputId": "586d1a46-5305-492d-bef1-c2e72307c873"
      },
      "outputs": [
        {
          "output_type": "execute_result",
          "data": {
            "text/plain": [
              "<matplotlib.image.AxesImage at 0x7f9b90c08a50>"
            ]
          },
          "metadata": {},
          "execution_count": 51
        },
        {
          "output_type": "display_data",
          "data": {
            "text/plain": [
              "<Figure size 432x288 with 1 Axes>"
            ],
            "image/png": "[encoded data removed]"
          },
          "metadata": {
            "needs_background": "light"
          }
        }
      ],
      "source": [
        "import matplotlib.pyplot as pl\n",
        "pl.imshow(x)"
      ]
    },
    {
      "cell_type": "code",
      "execution_count": 52,
      "metadata": {
        "colab": {
          "base_uri": "https://localhost:8080/"
        },
        "id": "xmly7F6xM_8J",
        "outputId": "72cf22cc-ec9c-49f8-f73e-d25715340686"
      },
      "outputs": [
        {
          "output_type": "stream",
          "name": "stdout",
          "text": [
            "5\n"
          ]
        }
      ],
      "source": [
        "y = yr[0]\n",
        "print(y)"
      ]
    },
    {
      "cell_type": "code",
      "execution_count": 53,
      "metadata": {
        "id": "bJ7HF8U-NqZr"
      },
      "outputs": [],
      "source": [
        "xr1= xr.reshape(-1, 28*28) \n",
        "xt1= xt.reshape(-1, 28*28)"
      ]
    },
    {
      "cell_type": "code",
      "execution_count": 54,
      "metadata": {
        "id": "yrbWe3gGNryJ"
      },
      "outputs": [],
      "source": [
        "aModel= keras.Sequential([\n",
        "    keras.Input(28*28),\n",
        "    keras.layers.Dense(100),    \n",
        "    keras.layers.Dense(10)   \n",
        "    ])\n",
        "\n",
        "aModel.compile(\n",
        "    loss=     'sparse_categorical_crossentropy', \n",
        "    metrics= ['accuracy']\n",
        "    )"
      ]
    },
    {
      "cell_type": "code",
      "execution_count": 55,
      "metadata": {
        "colab": {
          "base_uri": "https://localhost:8080/",
          "height": 538
        },
        "id": "qH8DJcyfNtD9",
        "outputId": "636be562-0ba0-4f08-975c-8e9c7ded3324"
      },
      "outputs": [
        {
          "output_type": "stream",
          "name": "stdout",
          "text": [
            "Model: \"sequential_8\"\n",
            "_________________________________________________________________\n",
            " Layer (type)                Output Shape              Param #   \n",
            "=================================================================\n",
            " dense_16 (Dense)            (None, 100)               78500     \n",
            "                                                                 \n",
            " dense_17 (Dense)            (None, 10)                1010      \n",
            "                                                                 \n",
            "=================================================================\n",
            "Total params: 79,510\n",
            "Trainable params: 79,510\n",
            "Non-trainable params: 0\n",
            "_________________________________________________________________\n"
          ]
        },
        {
          "output_type": "execute_result",
          "data": {
            "image/png": "[encoded data removed]",
            "text/plain": [
              "<IPython.core.display.Image object>"
            ]
          },
          "metadata": {},
          "execution_count": 55
        }
      ],
      "source": [
        "aModel.summary()\n",
        "\n",
        "keras.utils.plot_model(aModel, \n",
        "    show_shapes= True, \n",
        "    show_layer_activations= True)"
      ]
    },
    {
      "cell_type": "code",
      "execution_count": 56,
      "metadata": {
        "colab": {
          "base_uri": "https://localhost:8080/"
        },
        "id": "zr1uzQNnNs_y",
        "outputId": "5cb9e805-0f71-4b39-953f-6f37ded81499"
      },
      "outputs": [
        {
          "output_type": "stream",
          "name": "stdout",
          "text": [
            "Epoch 1/10\n",
            "600/600 [==============================] - 3s 4ms/step - loss: 3.0189 - accuracy: 0.1276\n",
            "Epoch 2/10\n",
            "600/600 [==============================] - 2s 4ms/step - loss: 2.3360 - accuracy: 0.1289\n",
            "Epoch 3/10\n",
            "600/600 [==============================] - 2s 4ms/step - loss: 2.3083 - accuracy: 0.1148\n",
            "Epoch 4/10\n",
            "600/600 [==============================] - 2s 4ms/step - loss: 2.3028 - accuracy: 0.1466\n",
            "Epoch 5/10\n",
            "600/600 [==============================] - 2s 4ms/step - loss: 2.3028 - accuracy: 0.1466\n",
            "Epoch 6/10\n",
            "600/600 [==============================] - 3s 5ms/step - loss: 2.3028 - accuracy: 0.1466\n",
            "Epoch 7/10\n",
            "600/600 [==============================] - 2s 4ms/step - loss: 2.3028 - accuracy: 0.1466\n",
            "Epoch 8/10\n",
            "600/600 [==============================] - 3s 5ms/step - loss: 2.3028 - accuracy: 0.1466\n",
            "Epoch 9/10\n",
            "600/600 [==============================] - 3s 4ms/step - loss: 2.3028 - accuracy: 0.1466\n",
            "Epoch 10/10\n",
            "600/600 [==============================] - 3s 4ms/step - loss: 2.3028 - accuracy: 0.1466\n",
            "313/313 [==============================] - 1s 2ms/step - loss: 2.3040 - accuracy: 0.1411\n"
          ]
        },
        {
          "output_type": "execute_result",
          "data": {
            "text/plain": [
              "[2.3039724826812744, 0.14110000431537628]"
            ]
          },
          "metadata": {},
          "execution_count": 56
        }
      ],
      "source": [
        "aModel.fit(xr1, yr, \n",
        "           epochs= 10, \n",
        "           batch_size= 100)\n",
        "\n",
        "aModel.evaluate(xt1, yt)"
      ]
    },
    {
      "cell_type": "markdown",
      "source": [
        "**以下為優化的code**"
      ],
      "metadata": {
        "id": "m5sZ4beKeZma"
      }
    },
    {
      "cell_type": "code",
      "source": [
        "model = Sequential()\n",
        "model.add(Dense(units=512, activation='relu',input_shape=(28*28,))) \n",
        "model.add(Dense(units=10, activation='softmax'))\n",
        "model.compile(loss='categorical_crossentropy', optimizer='adam', metrics=['accuracy']) "
      ],
      "metadata": {
        "id": "BwOcKvtteiE3"
      },
      "execution_count": 68,
      "outputs": []
    },
    {
      "cell_type": "code",
      "source": [
        "y_TrainOneHot = np_utils.to_categorical(yr) \n",
        "y_TestOneHot = np_utils.to_categorical(yt)\n",
        "\n",
        "#資料轉二維\n",
        "X_train_2D = xr.reshape(60000, 28*28).astype('float32')  \n",
        "X_test_2D = xt.reshape(10000, 28*28).astype('float32')  \n",
        "\n",
        "x_Train_norm = X_train_2D/255\n",
        "x_Test_norm = X_test_2D/255"
      ],
      "metadata": {
        "id": "qD38vk9Mfbis"
      },
      "execution_count": 70,
      "outputs": []
    },
    {
      "cell_type": "code",
      "source": [
        "\n",
        "train_history = model.fit(x=x_Train_norm, y=y_TrainOneHot, validation_split=0.2, epochs=10, batch_size=800, verbose=2)  \n",
        "#計算準確率\n",
        "scores = model.evaluate(x_Test_norm, y_TestOneHot)  \n",
        "print()  \n",
        "print(\"\\t[Info] Accuracy of testing data = {:2.1f}%\".format(scores[1]*100.0))"
      ],
      "metadata": {
        "colab": {
          "base_uri": "https://localhost:8080/"
        },
        "id": "wQgI6PXUfeOq",
        "outputId": "2a4fdc14-d590-4d5c-8f49-82e20d17d4af"
      },
      "execution_count": 71,
      "outputs": [
        {
          "output_type": "stream",
          "name": "stdout",
          "text": [
            "Epoch 1/10\n",
            "60/60 - 2s - loss: 0.5571 - accuracy: 0.8492 - val_loss: 0.2551 - val_accuracy: 0.9287 - 2s/epoch - 41ms/step\n",
            "Epoch 2/10\n",
            "60/60 - 2s - loss: 0.2311 - accuracy: 0.9351 - val_loss: 0.1914 - val_accuracy: 0.9470 - 2s/epoch - 32ms/step\n",
            "Epoch 3/10\n",
            "60/60 - 2s - loss: 0.1729 - accuracy: 0.9517 - val_loss: 0.1584 - val_accuracy: 0.9556 - 2s/epoch - 31ms/step\n",
            "Epoch 4/10\n",
            "60/60 - 2s - loss: 0.1378 - accuracy: 0.9614 - val_loss: 0.1372 - val_accuracy: 0.9605 - 2s/epoch - 30ms/step\n",
            "Epoch 5/10\n",
            "60/60 - 2s - loss: 0.1126 - accuracy: 0.9693 - val_loss: 0.1208 - val_accuracy: 0.9657 - 2s/epoch - 31ms/step\n",
            "Epoch 6/10\n",
            "60/60 - 2s - loss: 0.0951 - accuracy: 0.9738 - val_loss: 0.1104 - val_accuracy: 0.9667 - 2s/epoch - 31ms/step\n",
            "Epoch 7/10\n",
            "60/60 - 2s - loss: 0.0805 - accuracy: 0.9782 - val_loss: 0.1047 - val_accuracy: 0.9685 - 2s/epoch - 31ms/step\n",
            "Epoch 8/10\n",
            "60/60 - 3s - loss: 0.0689 - accuracy: 0.9816 - val_loss: 0.0990 - val_accuracy: 0.9717 - 3s/epoch - 44ms/step\n",
            "Epoch 9/10\n",
            "60/60 - 2s - loss: 0.0599 - accuracy: 0.9839 - val_loss: 0.0920 - val_accuracy: 0.9720 - 2s/epoch - 35ms/step\n",
            "Epoch 10/10\n",
            "60/60 - 2s - loss: 0.0514 - accuracy: 0.9868 - val_loss: 0.0901 - val_accuracy: 0.9724 - 2s/epoch - 31ms/step\n",
            "313/313 [==============================] - 1s 3ms/step - loss: 0.0843 - accuracy: 0.9744\n",
            "\n",
            "\t[Info] Accuracy of testing data = 97.4%\n"
          ]
        }
      ]
    }
  ],
  "metadata": {
    "colab": {
      "collapsed_sections": [],
      "provenance": []
    },
    "kernelspec": {
      "display_name": "Python 3",
      "name": "python3"
    },
    "language_info": {
      "name": "python"
    }
  },
  "nbformat": 4,
  "nbformat_minor": 0
}